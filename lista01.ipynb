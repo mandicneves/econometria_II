{
 "cells": [
  {
   "attachments": {},
   "cell_type": "markdown",
   "metadata": {},
   "source": [
    "# C09 - Capítulo 3"
   ]
  },
  {
   "attachments": {},
   "cell_type": "markdown",
   "metadata": {},
   "source": [
    "Use the data in CHARITY to answer the following questions:\n",
    "\n",
    "#### (i) Estimate the equation\n",
    "\n",
    "**gift = b0 + b1mailsyear + b2giftlast + b3propresp + u**\n",
    "\n",
    "by OLS and report the results in the usual way, including the sample size and R-squared.\n",
    "How does the R-squared compare with that from the simple regression that omits giftlast\n",
    "and propresp?"
   ]
  },
  {
   "cell_type": "code",
   "execution_count": 1,
   "metadata": {},
   "outputs": [],
   "source": [
    "import pandas as pd # Biblioteca para ler arquivos\n",
    "import statsmodels.api as sm # Biblioteca para fazer o modelo"
   ]
  },
  {
   "cell_type": "code",
   "execution_count": 2,
   "metadata": {},
   "outputs": [
    {
     "data": {
      "text/html": [
       "<div>\n",
       "<style scoped>\n",
       "    .dataframe tbody tr th:only-of-type {\n",
       "        vertical-align: middle;\n",
       "    }\n",
       "\n",
       "    .dataframe tbody tr th {\n",
       "        vertical-align: top;\n",
       "    }\n",
       "\n",
       "    .dataframe thead th {\n",
       "        text-align: right;\n",
       "    }\n",
       "</style>\n",
       "<table border=\"1\" class=\"dataframe\">\n",
       "  <thead>\n",
       "    <tr style=\"text-align: right;\">\n",
       "      <th></th>\n",
       "      <th>respond</th>\n",
       "      <th>gift</th>\n",
       "      <th>resplast</th>\n",
       "      <th>weekslast</th>\n",
       "      <th>propresp</th>\n",
       "      <th>mailsyear</th>\n",
       "      <th>giftlast</th>\n",
       "      <th>avggift</th>\n",
       "    </tr>\n",
       "  </thead>\n",
       "  <tbody>\n",
       "    <tr>\n",
       "      <th>0</th>\n",
       "      <td>0</td>\n",
       "      <td>0</td>\n",
       "      <td>0</td>\n",
       "      <td>143.00000</td>\n",
       "      <td>0.3</td>\n",
       "      <td>2.5</td>\n",
       "      <td>10</td>\n",
       "      <td>10.0</td>\n",
       "    </tr>\n",
       "    <tr>\n",
       "      <th>1</th>\n",
       "      <td>0</td>\n",
       "      <td>0</td>\n",
       "      <td>0</td>\n",
       "      <td>65.42857</td>\n",
       "      <td>0.3</td>\n",
       "      <td>2.5</td>\n",
       "      <td>10</td>\n",
       "      <td>10.0</td>\n",
       "    </tr>\n",
       "    <tr>\n",
       "      <th>2</th>\n",
       "      <td>0</td>\n",
       "      <td>0</td>\n",
       "      <td>1</td>\n",
       "      <td>13.14286</td>\n",
       "      <td>0.3</td>\n",
       "      <td>2.5</td>\n",
       "      <td>10</td>\n",
       "      <td>10.0</td>\n",
       "    </tr>\n",
       "    <tr>\n",
       "      <th>3</th>\n",
       "      <td>0</td>\n",
       "      <td>0</td>\n",
       "      <td>0</td>\n",
       "      <td>120.14290</td>\n",
       "      <td>0.3</td>\n",
       "      <td>2.5</td>\n",
       "      <td>10</td>\n",
       "      <td>10.0</td>\n",
       "    </tr>\n",
       "    <tr>\n",
       "      <th>4</th>\n",
       "      <td>1</td>\n",
       "      <td>10</td>\n",
       "      <td>0</td>\n",
       "      <td>103.85710</td>\n",
       "      <td>0.2</td>\n",
       "      <td>2.5</td>\n",
       "      <td>10</td>\n",
       "      <td>10.0</td>\n",
       "    </tr>\n",
       "  </tbody>\n",
       "</table>\n",
       "</div>"
      ],
      "text/plain": [
       "   respond  gift  resplast  weekslast  propresp  mailsyear  giftlast  avggift\n",
       "0        0     0         0  143.00000       0.3        2.5        10     10.0\n",
       "1        0     0         0   65.42857       0.3        2.5        10     10.0\n",
       "2        0     0         1   13.14286       0.3        2.5        10     10.0\n",
       "3        0     0         0  120.14290       0.3        2.5        10     10.0\n",
       "4        1    10         0  103.85710       0.2        2.5        10     10.0"
      ]
     },
     "execution_count": 2,
     "metadata": {},
     "output_type": "execute_result"
    }
   ],
   "source": [
    "charity = pd.read_excel('./Data Sets-Excel/charity.xls', \n",
    "            header=None)\n",
    "\n",
    "colunas = {}\n",
    "nomes = ['respond','gift','resplast','weekslast','propresp','mailsyear','giftlast','avggift']\n",
    "\n",
    "for i in range(8):\n",
    "    colunas[i] = nomes[i]\n",
    "\n",
    "charity = charity.rename(columns=colunas)\n",
    "\n",
    "charity.head()"
   ]
  },
  {
   "cell_type": "code",
   "execution_count": 3,
   "metadata": {},
   "outputs": [],
   "source": [
    "X = charity[['mailsyear', 'giftlast', 'propresp']] # Definindo váriaveis dependente\n",
    "y = charity['gift'] # Definindo váriavel independente\n",
    "X_simples = charity['mailsyear'] # Definindo váriavel dependente"
   ]
  },
  {
   "cell_type": "code",
   "execution_count": 4,
   "metadata": {},
   "outputs": [],
   "source": [
    "regressao_c09_i = sm.OLS(y,sm.add_constant(X)).fit()\n",
    "regressao_c09_i_simples = sm.OLS(y, sm.add_constant(X_simples)).fit()\n",
    "# regressao_c09_i.summary(title='Sumário do Modelo Completo')\n",
    "# regressao_c09_i_simples.summary(title='Sumário do Modelo Simples')"
   ]
  },
  {
   "cell_type": "code",
   "execution_count": 5,
   "metadata": {},
   "outputs": [
    {
     "name": "stdout",
     "output_type": "stream",
     "text": [
      "Modelo Completo \n",
      "\n",
      "gift = -4.5515  + 2.1663((mailsyear) + 0.005927(giftlast) + 15.358605(propresp)\n",
      "     0.8030     0.3319                  0.0014            0.8745\n",
      "n = 4268  R² = 0.0834\n",
      "\n",
      "Modelo Simples \n",
      "\n",
      "gift = 2.0141  + 2.6495((mailsyear)\n",
      "     0.7395     0.3431\n",
      "n = 4268  R² = 0.0138\n"
     ]
    }
   ],
   "source": [
    "print('Modelo Completo \\n')\n",
    "print(f'gift = {regressao_c09_i.params[0]:.4f}  + {regressao_c09_i.params[1]:.4f}((mailsyear) + {regressao_c09_i.params[2]:4f}(giftlast) + {regressao_c09_i.params[3]:4f}(propresp)')\n",
    "print(f'     {regressao_c09_i.bse[0]:.4f}     {regressao_c09_i.bse[1]:.4f}                  {regressao_c09_i.bse[2]:.4f}            {regressao_c09_i.bse[3]:.4f}')\n",
    "print(f'n = {regressao_c09_i.nobs:.0f}  R² = {regressao_c09_i.rsquared_adj:.4f}')\n",
    "\n",
    "print('\\nModelo Simples \\n')\n",
    "print(f'gift = {regressao_c09_i_simples.params[0]:.4f}  + {regressao_c09_i_simples.params[1]:.4f}((mailsyear)')\n",
    "print(f'     {regressao_c09_i_simples.bse[0]:.4f}     {regressao_c09_i_simples.bse[1]:.4f}')\n",
    "print(f'n = {regressao_c09_i_simples.nobs:.0f}  R² = {regressao_c09_i_simples.rsquared_adj:.4f}')"
   ]
  },
  {
   "attachments": {},
   "cell_type": "markdown",
   "metadata": {},
   "source": [
    "**Na regressão simples o R² = 0,0138 é inferior ao R² = 0,0834 da regressão com as demais variáveis. Portanto, as variáveis giftlast e propresp ajudam a explicar mais o modelo.**"
   ]
  },
  {
   "attachments": {},
   "cell_type": "markdown",
   "metadata": {},
   "source": [
    "#### (ii) Interpret the coefficient on mailsyear. Is it bigger or smaller than the corresponding simple regression coefficient?"
   ]
  },
  {
   "attachments": {},
   "cell_type": "markdown",
   "metadata": {},
   "source": [
    "**Na regressão simples o coeficiente é maior. Isso acontece pois a variável está sendo superestimado**"
   ]
  },
  {
   "attachments": {},
   "cell_type": "markdown",
   "metadata": {},
   "source": [
    "#### (iii) Interpret the coefficient on propresp. Be careful to notice the units of measurement of propresp."
   ]
  },
  {
   "attachments": {},
   "cell_type": "markdown",
   "metadata": {},
   "source": [
    "**Dado que propresp está em proporção, um aumento de 10% em propres, leva ao aumento de 1,54 em gift, mantido outros fatores fixados.**"
   ]
  },
  {
   "attachments": {},
   "cell_type": "markdown",
   "metadata": {},
   "source": [
    "#### (iv) Now add the variable avggift to the equation. What happens to the estimated effect of mailsyear?"
   ]
  },
  {
   "attachments": {},
   "cell_type": "markdown",
   "metadata": {},
   "source": [
    "**O efeito causado é uma redução no estimador da variável mailsyear**"
   ]
  },
  {
   "attachments": {},
   "cell_type": "markdown",
   "metadata": {},
   "source": [
    "#### (v) In the equation from part (iv), what has happened to the coefficient on giftlast? What do you think is happening?"
   ]
  },
  {
   "attachments": {},
   "cell_type": "markdown",
   "metadata": {},
   "source": [
    "**O efeito causado é a inversão do sinal do estimador de giftlast, ou seja, a quantidade de presente está negativamente relacionada com o presente mais recente.**"
   ]
  },
  {
   "attachments": {},
   "cell_type": "markdown",
   "metadata": {},
   "source": [
    "# C11 - Capítulo 3"
   ]
  },
  {
   "attachments": {},
   "cell_type": "markdown",
   "metadata": {},
   "source": [
    "Use the data in MEAPSINGLE to study the effects of single-parent households on student math performance. These data are for a subset of schools in southeast Michigan for the year 2000. The socioeconomic variables are obtained at the ZIP code level (where ZIP code is assigned to schools based on their mailing addresses).\n",
    "\n",
    "#### (i) Run the simple regression of math4 on pctsgle and report the results in the usual format. Interpret the slope coefficient. Does the effect of single parenthood seem large or small?"
   ]
  },
  {
   "cell_type": "code",
   "execution_count": 6,
   "metadata": {},
   "outputs": [],
   "source": [
    "import pandas as pd # Biblioteca para ler arquivos\n",
    "import statsmodels.api as sm # Biblioteca para fazer o modelo"
   ]
  },
  {
   "cell_type": "code",
   "execution_count": 10,
   "metadata": {},
   "outputs": [],
   "source": [
    "meapsingle = pd.read_csv('./Data Sets-Excel/meapsingle.csv')\n",
    "\n",
    "X = meapsingle['pctsgle']\n",
    "y = meapsingle['math4']\n",
    "\n",
    "regressao_c11_i = sm.OLS(y, sm.add_constant(X)).fit()"
   ]
  },
  {
   "cell_type": "code",
   "execution_count": 18,
   "metadata": {},
   "outputs": [
    {
     "name": "stdout",
     "output_type": "stream",
     "text": [
      "math4 = 96.7704 -0.8329(pctsgle)\n",
      "        1.5968   0.070682\n",
      " n = 229     R² = 0.3768\n"
     ]
    }
   ],
   "source": [
    "print(f'math4 = {regressao_c11_i.params[0]:.4f} {regressao_c11_i.params[1]:.4f}(pctsgle)')\n",
    "print(f'        {regressao_c11_i.bse[0]:.4f}   {regressao_c11_i.bse[1]:4f}')\n",
    "print(f' n = {regressao_c11_i.nobs:.0f}     R² = {regressao_c11_i.rsquared_adj:.4f}')\n"
   ]
  },
  {
   "attachments": {},
   "cell_type": "markdown",
   "metadata": {},
   "source": [
    "**O coeficiente é negativamente relacionado com o desempenho em matemética, ou seja, crianças em monoparentalidade performam menos em matemática. O efeito parece ser pequeno.**"
   ]
  },
  {
   "attachments": {},
   "cell_type": "markdown",
   "metadata": {},
   "source": [
    "#### (ii) Add the variables lmedinc and free to the equation. What happens to the coefficient on pctsgle? Explain what is happening."
   ]
  },
  {
   "cell_type": "code",
   "execution_count": 25,
   "metadata": {},
   "outputs": [],
   "source": [
    "X = meapsingle[['pctsgle', 'lmedinc', 'free']]\n",
    "\n",
    "regressao_c11_ii = sm.OLS(y, sm.add_constant(X)).fit()"
   ]
  },
  {
   "cell_type": "code",
   "execution_count": 32,
   "metadata": {},
   "outputs": [
    {
     "name": "stdout",
     "output_type": "stream",
     "text": [
      "math4 = 51.7232 + -0.1996(pctsgle) + 3.5601(lmedinc) + -0.3964(free)\n",
      "    58.4781       0.1587           5.0417           0.0703\n",
      " n = 229    R² = 0.4526\n"
     ]
    }
   ],
   "source": [
    "print(f'math4 = {regressao_c11_ii.params[0]:.4f} + {regressao_c11_ii.params[1]:.4f}(pctsgle) + {regressao_c11_ii.params[2]:.4f}(lmedinc) + {regressao_c11_ii.params[3]:.4f}(free)')\n",
    "print(f'    {regressao_c11_ii.bse[0]:.4f}       {regressao_c11_ii.bse[1]:.4f}           {regressao_c11_ii.bse[2]:.4f}           {regressao_c11_ii.bse[3]:.4f}')\n",
    "print(f' n = {regressao_c11_ii.nobs:.0f}    R² = {regressao_c11_ii.rsquared_adj:.4f}')"
   ]
  },
  {
   "attachments": {},
   "cell_type": "markdown",
   "metadata": {},
   "source": [
    "**O coeficiente de pctsgle em módulo ficou menor. Na regressão simples o coeficiente absorvia os efeitos de outras variávies com as quais possuia correlação, superestimando o efeito de pctsgle.**"
   ]
  },
  {
   "attachments": {},
   "cell_type": "markdown",
   "metadata": {},
   "source": [
    "#### (iii) Find the sample correlation between lmedinc and free. Does it have the sign you expect?"
   ]
  },
  {
   "cell_type": "code",
   "execution_count": 41,
   "metadata": {},
   "outputs": [
    {
     "name": "stdout",
     "output_type": "stream",
     "text": [
      "A correlação é de -0.75\n"
     ]
    }
   ],
   "source": [
    "import numpy as np\n",
    "\n",
    "cor = np.corrcoef(meapsingle['lmedinc'], meapsingle['free'])[0][1]\n",
    "\n",
    "print(f'A correlação é de {cor:.2f}')"
   ]
  },
  {
   "attachments": {},
   "cell_type": "markdown",
   "metadata": {},
   "source": [
    "**Correlação entre as variáveis é de -0,75. O resultado da correlação é esperado, pois se espera que famílias que possuem uma renda maior, tenham menos crianças elegíveis à refeições gratuitas**"
   ]
  },
  {
   "attachments": {},
   "cell_type": "markdown",
   "metadata": {},
   "source": [
    "#### (iv) Does the substantial correlation between lmedinc and free mean that you should drop one from the regression to better estimate the causal effect of single parenthood on student performance? Explain."
   ]
  },
  {
   "attachments": {},
   "cell_type": "markdown",
   "metadata": {},
   "source": [
    "**Sim. Matematicamente, correlações altas entre as variáveis independentes causam uma instabilidade numérica ao ajustar a curva de regressão, o chamado efeito de multicolinearidade. Uma das consequências da multicolinearidade é a elevação dos erros-padrão, como observado no erro-padrão do intercepto**"
   ]
  },
  {
   "attachments": {},
   "cell_type": "markdown",
   "metadata": {},
   "source": [
    "#### (v) Find the variance inflation factors (VIFs) for each of the explanatory variables appearing in the regression in part (ii). Which variable has the largest VIF? Does this knowledge affect the model you would use to study the causal effect of single parenthood on math performance?"
   ]
  },
  {
   "cell_type": "code",
   "execution_count": 52,
   "metadata": {},
   "outputs": [
    {
     "name": "stdout",
     "output_type": "stream",
     "text": [
      "FIV pctsgle :5.6906\n",
      "FIV free :3.1601\n",
      "FIV lmedinc :4.0827\n",
      "\n"
     ]
    }
   ],
   "source": [
    "regressao_c11_iv_pctsgle = sm.OLS(meapsingle['pctsgle'], sm.add_constant(meapsingle[['free', 'lmedinc']])).fit()\n",
    "regressao_c11_iv_free = sm.OLS(meapsingle['free'], sm.add_constant(meapsingle[['pctsgle', 'lmedinc']])).fit()\n",
    "regressao_c11_iv_lmedinc = sm.OLS(meapsingle['lmedinc'], sm.add_constant(meapsingle[['pctsgle', 'free']])).fit()\n",
    "\n",
    "fiv_pctsgle = 1/(1-regressao_c11_iv_pctsgle.rsquared_adj)\n",
    "fiv_free = 1/(1-regressao_c11_iv_free.rsquared_adj)\n",
    "fiv_lmedinc = 1/(1-regressao_c11_iv_lmedinc.rsquared_adj)\n",
    "\n",
    "print(f'FIV pctsgle :{fiv_pctsgle:.4f}\\nFIV free :{fiv_free:.4f}\\nFIV lmedinc :{fiv_lmedinc:.4f}\\n')"
   ]
  },
  {
   "attachments": {},
   "cell_type": "markdown",
   "metadata": {},
   "source": [
    "**pctsgle e lmedinc possuem os maiores FIVs. FIVs maiores que 1 indicam multicolinearidade entre as variáveis.**"
   ]
  },
  {
   "attachments": {},
   "cell_type": "markdown",
   "metadata": {},
   "source": [
    "# C04 - Capítulo 7"
   ]
  },
  {
   "attachments": {},
   "cell_type": "markdown",
   "metadata": {},
   "source": [
    "Use the data in GPA2 for this exercise.\n",
    "\n",
    "### (i) Consider the equation\n",
    "\n",
    "**colgpa = b0 + b1hsize + b2hsize2 + b3hsperc + b4sat + b5female + b6athlete + u**\n",
    "\n",
    "where colgpa is cumulative college grade point average; hsize is size of high school graduating\n",
    "class, in hundreds; hsperc is academic percentile in graduating class; sat is combined SAT\n",
    "score; female is a binary gender variable; and athlete is a binary variable, which is one for\n",
    "student athletes. What are your expectations for the coefficients in this equation? Which ones\n",
    "are you unsure about?"
   ]
  },
  {
   "cell_type": "code",
   "execution_count": 60,
   "metadata": {},
   "outputs": [
    {
     "data": {
      "text/html": [
       "<div>\n",
       "<style scoped>\n",
       "    .dataframe tbody tr th:only-of-type {\n",
       "        vertical-align: middle;\n",
       "    }\n",
       "\n",
       "    .dataframe tbody tr th {\n",
       "        vertical-align: top;\n",
       "    }\n",
       "\n",
       "    .dataframe thead th {\n",
       "        text-align: right;\n",
       "    }\n",
       "</style>\n",
       "<table border=\"1\" class=\"dataframe\">\n",
       "  <thead>\n",
       "    <tr style=\"text-align: right;\">\n",
       "      <th></th>\n",
       "      <th>sat</th>\n",
       "      <th>tothrs</th>\n",
       "      <th>colgpa</th>\n",
       "      <th>athlete</th>\n",
       "      <th>verbmath</th>\n",
       "      <th>hsize</th>\n",
       "      <th>hsrank</th>\n",
       "      <th>hsperc</th>\n",
       "      <th>female</th>\n",
       "      <th>white</th>\n",
       "      <th>black</th>\n",
       "      <th>hsizesq</th>\n",
       "    </tr>\n",
       "  </thead>\n",
       "  <tbody>\n",
       "    <tr>\n",
       "      <th>0</th>\n",
       "      <td>920</td>\n",
       "      <td>43</td>\n",
       "      <td>2.04</td>\n",
       "      <td>1</td>\n",
       "      <td>0.48387</td>\n",
       "      <td>0.10</td>\n",
       "      <td>4</td>\n",
       "      <td>40.000000</td>\n",
       "      <td>1</td>\n",
       "      <td>0</td>\n",
       "      <td>0</td>\n",
       "      <td>0.010000</td>\n",
       "    </tr>\n",
       "    <tr>\n",
       "      <th>1</th>\n",
       "      <td>1170</td>\n",
       "      <td>18</td>\n",
       "      <td>4.00</td>\n",
       "      <td>0</td>\n",
       "      <td>0.82813</td>\n",
       "      <td>9.40</td>\n",
       "      <td>191</td>\n",
       "      <td>20.319149</td>\n",
       "      <td>0</td>\n",
       "      <td>1</td>\n",
       "      <td>0</td>\n",
       "      <td>88.360001</td>\n",
       "    </tr>\n",
       "    <tr>\n",
       "      <th>2</th>\n",
       "      <td>810</td>\n",
       "      <td>14</td>\n",
       "      <td>1.78</td>\n",
       "      <td>1</td>\n",
       "      <td>0.88372</td>\n",
       "      <td>1.19</td>\n",
       "      <td>42</td>\n",
       "      <td>35.294117</td>\n",
       "      <td>0</td>\n",
       "      <td>1</td>\n",
       "      <td>0</td>\n",
       "      <td>1.416100</td>\n",
       "    </tr>\n",
       "    <tr>\n",
       "      <th>3</th>\n",
       "      <td>940</td>\n",
       "      <td>40</td>\n",
       "      <td>2.42</td>\n",
       "      <td>0</td>\n",
       "      <td>0.80769</td>\n",
       "      <td>5.71</td>\n",
       "      <td>252</td>\n",
       "      <td>44.133099</td>\n",
       "      <td>0</td>\n",
       "      <td>1</td>\n",
       "      <td>0</td>\n",
       "      <td>32.604099</td>\n",
       "    </tr>\n",
       "    <tr>\n",
       "      <th>4</th>\n",
       "      <td>1180</td>\n",
       "      <td>18</td>\n",
       "      <td>2.61</td>\n",
       "      <td>0</td>\n",
       "      <td>0.73529</td>\n",
       "      <td>2.14</td>\n",
       "      <td>86</td>\n",
       "      <td>40.186916</td>\n",
       "      <td>0</td>\n",
       "      <td>1</td>\n",
       "      <td>0</td>\n",
       "      <td>4.579600</td>\n",
       "    </tr>\n",
       "  </tbody>\n",
       "</table>\n",
       "</div>"
      ],
      "text/plain": [
       "    sat  tothrs  colgpa  athlete  verbmath  hsize  hsrank     hsperc  female  \\\n",
       "0   920      43    2.04        1   0.48387   0.10       4  40.000000       1   \n",
       "1  1170      18    4.00        0   0.82813   9.40     191  20.319149       0   \n",
       "2   810      14    1.78        1   0.88372   1.19      42  35.294117       0   \n",
       "3   940      40    2.42        0   0.80769   5.71     252  44.133099       0   \n",
       "4  1180      18    2.61        0   0.73529   2.14      86  40.186916       0   \n",
       "\n",
       "   white  black    hsizesq  \n",
       "0      0      0   0.010000  \n",
       "1      1      0  88.360001  \n",
       "2      1      0   1.416100  \n",
       "3      1      0  32.604099  \n",
       "4      1      0   4.579600  "
      ]
     },
     "execution_count": 60,
     "metadata": {},
     "output_type": "execute_result"
    }
   ],
   "source": [
    "import pandas as pd\n",
    "\n",
    "\n",
    "gpa2 = pd.read_csv('./Data Sets-Excel/gpa2.csv')\n",
    "gpa2.head()"
   ]
  },
  {
   "attachments": {},
   "cell_type": "markdown",
   "metadata": {},
   "source": [
    "**B4 > 0, quanto melhor a nota no sat, melhor o desempenho na faculdade. Suponho que B6 < 0, ou seja, atletas performam pior. Os sinais de B1 e B5 não são claros.**"
   ]
  },
  {
   "attachments": {},
   "cell_type": "markdown",
   "metadata": {},
   "source": [
    "#### (ii) Estimate the equation in part (i) and report the results in the usual form. What is the estimated GPA differential between athletes and nonathletes? Is it statistically significant?"
   ]
  },
  {
   "cell_type": "code",
   "execution_count": 78,
   "metadata": {},
   "outputs": [
    {
     "name": "stdout",
     "output_type": "stream",
     "text": [
      "colgpa = 1.2414 + -0.0569(hsize) + 0.0047(hsize²) + -0.0132(hsperc) + 0.0016(sat) + 0.1549(female) + 0.1693(athlete)\n",
      "        0.0795   0.0164          0.0022          0.0006          0.0001          0.0180          0.0423\n",
      " n = 4137    R² = 0.2915\n"
     ]
    }
   ],
   "source": [
    "import statsmodels.api as sm\n",
    "\n",
    "X = gpa2[['hsize', 'hsizesq', 'hsperc', 'sat', 'female', 'athlete']]\n",
    "y = gpa2['colgpa']\n",
    "\n",
    "regressao_c04_ii = sm.OLS(y, sm.add_constant(X)).fit()\n",
    "\n",
    "print(f'colgpa = {regressao_c04_ii.params[0]:.4f} + {regressao_c04_ii.params[1]:.4f}(hsize) + {regressao_c04_ii.params[2]:.4f}(hsize²) + {regressao_c04_ii.params[3]:.4f}(hsperc) + {regressao_c04_ii.params[4]:.4f}(sat) + {regressao_c04_ii.params[5]:.4f}(female) + {regressao_c04_ii.params[6]:.4f}(athlete)')\n",
    "print(f'        {regressao_c04_ii.bse[0]:.4f}   {regressao_c04_ii.bse[1]:.4f}          {regressao_c04_ii.bse[2]:.4f}          {regressao_c04_ii.bse[3]:.4f}          {regressao_c04_ii.bse[4]:.4f}          {regressao_c04_ii.bse[5]:.4f}          {regressao_c04_ii.bse[6]:.4f}')\n",
    "print(f' n = {regressao_c04_ii.nobs:.0f}    R² = {regressao_c04_ii.rsquared_adj:.4f}')"
   ]
  },
  {
   "attachments": {},
   "cell_type": "markdown",
   "metadata": {},
   "source": [
    "**Para atletas o resultado em colgpa é um aumento de 0,169 pontos. O coeficiente é estatísticamente significante**"
   ]
  },
  {
   "attachments": {},
   "cell_type": "markdown",
   "metadata": {},
   "source": [
    "#### (iii) Drop sat from the model and reestimate the equation. Now, what is the estimated effect of being an athlete? Discuss why the estimate is different than that obtained in part (ii)."
   ]
  },
  {
   "cell_type": "code",
   "execution_count": 85,
   "metadata": {},
   "outputs": [
    {
     "data": {
      "text/html": [
       "<table class=\"simpletable\">\n",
       "<caption>OLS Regression Results</caption>\n",
       "<tr>\n",
       "  <th>Dep. Variable:</th>         <td>colgpa</td>      <th>  R-squared:         </th> <td>   0.293</td> \n",
       "</tr>\n",
       "<tr>\n",
       "  <th>Model:</th>                   <td>OLS</td>       <th>  Adj. R-squared:    </th> <td>   0.291</td> \n",
       "</tr>\n",
       "<tr>\n",
       "  <th>Method:</th>             <td>Least Squares</td>  <th>  F-statistic:       </th> <td>   284.6</td> \n",
       "</tr>\n",
       "<tr>\n",
       "  <th>Date:</th>             <td>Tue, 14 Feb 2023</td> <th>  Prob (F-statistic):</th> <td>8.63e-306</td>\n",
       "</tr>\n",
       "<tr>\n",
       "  <th>Time:</th>                 <td>17:06:16</td>     <th>  Log-Likelihood:    </th> <td> -3426.3</td> \n",
       "</tr>\n",
       "<tr>\n",
       "  <th>No. Observations:</th>      <td>  4137</td>      <th>  AIC:               </th> <td>   6867.</td> \n",
       "</tr>\n",
       "<tr>\n",
       "  <th>Df Residuals:</th>          <td>  4130</td>      <th>  BIC:               </th> <td>   6911.</td> \n",
       "</tr>\n",
       "<tr>\n",
       "  <th>Df Model:</th>              <td>     6</td>      <th>                     </th>     <td> </td>    \n",
       "</tr>\n",
       "<tr>\n",
       "  <th>Covariance Type:</th>      <td>nonrobust</td>    <th>                     </th>     <td> </td>    \n",
       "</tr>\n",
       "</table>\n",
       "<table class=\"simpletable\">\n",
       "<tr>\n",
       "     <td></td>        <th>coef</th>     <th>std err</th>      <th>t</th>      <th>P>|t|</th>  <th>[0.025</th>    <th>0.975]</th>  \n",
       "</tr>\n",
       "<tr>\n",
       "  <th>const</th>   <td>    1.2414</td> <td>    0.079</td> <td>   15.616</td> <td> 0.000</td> <td>    1.086</td> <td>    1.397</td>\n",
       "</tr>\n",
       "<tr>\n",
       "  <th>hsize</th>   <td>   -0.0569</td> <td>    0.016</td> <td>   -3.477</td> <td> 0.001</td> <td>   -0.089</td> <td>   -0.025</td>\n",
       "</tr>\n",
       "<tr>\n",
       "  <th>hsizesq</th> <td>    0.0047</td> <td>    0.002</td> <td>    2.079</td> <td> 0.038</td> <td>    0.000</td> <td>    0.009</td>\n",
       "</tr>\n",
       "<tr>\n",
       "  <th>hsperc</th>  <td>   -0.0132</td> <td>    0.001</td> <td>  -23.068</td> <td> 0.000</td> <td>   -0.014</td> <td>   -0.012</td>\n",
       "</tr>\n",
       "<tr>\n",
       "  <th>sat</th>     <td>    0.0016</td> <td> 6.68e-05</td> <td>   24.640</td> <td> 0.000</td> <td>    0.002</td> <td>    0.002</td>\n",
       "</tr>\n",
       "<tr>\n",
       "  <th>female</th>  <td>    0.1549</td> <td>    0.018</td> <td>    8.602</td> <td> 0.000</td> <td>    0.120</td> <td>    0.190</td>\n",
       "</tr>\n",
       "<tr>\n",
       "  <th>athlete</th> <td>    0.1693</td> <td>    0.042</td> <td>    3.998</td> <td> 0.000</td> <td>    0.086</td> <td>    0.252</td>\n",
       "</tr>\n",
       "</table>\n",
       "<table class=\"simpletable\">\n",
       "<tr>\n",
       "  <th>Omnibus:</th>       <td>183.038</td> <th>  Durbin-Watson:     </th> <td>   1.897</td>\n",
       "</tr>\n",
       "<tr>\n",
       "  <th>Prob(Omnibus):</th> <td> 0.000</td>  <th>  Jarque-Bera (JB):  </th> <td> 227.139</td>\n",
       "</tr>\n",
       "<tr>\n",
       "  <th>Skew:</th>          <td>-0.471</td>  <th>  Prob(JB):          </th> <td>4.76e-50</td>\n",
       "</tr>\n",
       "<tr>\n",
       "  <th>Kurtosis:</th>      <td> 3.657</td>  <th>  Cond. No.          </th> <td>9.68e+03</td>\n",
       "</tr>\n",
       "</table><br/><br/>Notes:<br/>[1] Standard Errors assume that the covariance matrix of the errors is correctly specified.<br/>[2] The condition number is large, 9.68e+03. This might indicate that there are<br/>strong multicollinearity or other numerical problems."
      ],
      "text/plain": [
       "<class 'statsmodels.iolib.summary.Summary'>\n",
       "\"\"\"\n",
       "                            OLS Regression Results                            \n",
       "==============================================================================\n",
       "Dep. Variable:                 colgpa   R-squared:                       0.293\n",
       "Model:                            OLS   Adj. R-squared:                  0.291\n",
       "Method:                 Least Squares   F-statistic:                     284.6\n",
       "Date:                Tue, 14 Feb 2023   Prob (F-statistic):          8.63e-306\n",
       "Time:                        17:06:16   Log-Likelihood:                -3426.3\n",
       "No. Observations:                4137   AIC:                             6867.\n",
       "Df Residuals:                    4130   BIC:                             6911.\n",
       "Df Model:                           6                                         \n",
       "Covariance Type:            nonrobust                                         \n",
       "==============================================================================\n",
       "                 coef    std err          t      P>|t|      [0.025      0.975]\n",
       "------------------------------------------------------------------------------\n",
       "const          1.2414      0.079     15.616      0.000       1.086       1.397\n",
       "hsize         -0.0569      0.016     -3.477      0.001      -0.089      -0.025\n",
       "hsizesq        0.0047      0.002      2.079      0.038       0.000       0.009\n",
       "hsperc        -0.0132      0.001    -23.068      0.000      -0.014      -0.012\n",
       "sat            0.0016   6.68e-05     24.640      0.000       0.002       0.002\n",
       "female         0.1549      0.018      8.602      0.000       0.120       0.190\n",
       "athlete        0.1693      0.042      3.998      0.000       0.086       0.252\n",
       "==============================================================================\n",
       "Omnibus:                      183.038   Durbin-Watson:                   1.897\n",
       "Prob(Omnibus):                  0.000   Jarque-Bera (JB):              227.139\n",
       "Skew:                          -0.471   Prob(JB):                     4.76e-50\n",
       "Kurtosis:                       3.657   Cond. No.                     9.68e+03\n",
       "==============================================================================\n",
       "\n",
       "Notes:\n",
       "[1] Standard Errors assume that the covariance matrix of the errors is correctly specified.\n",
       "[2] The condition number is large, 9.68e+03. This might indicate that there are\n",
       "strong multicollinearity or other numerical problems.\n",
       "\"\"\""
      ]
     },
     "execution_count": 85,
     "metadata": {},
     "output_type": "execute_result"
    }
   ],
   "source": [
    "X_droped = gpa2[['hsize', 'hsizesq', 'hsperc', 'female', 'athlete']]\n",
    "\n",
    "regressao_c04_iii = sm.OLS(y, sm.add_constant(X_droped)).fit()\n",
    "regressao_c04_ii.summary()"
   ]
  },
  {
   "attachments": {},
   "cell_type": "markdown",
   "metadata": {},
   "source": [
    "**Atletas tem uma previsão de nota maior em 0,0054 pontos, que é praticamente zero. Isso acontece porque não controlamos mais a variável sat**"
   ]
  }
 ],
 "metadata": {
  "kernelspec": {
   "display_name": "Python 3",
   "language": "python",
   "name": "python3"
  },
  "language_info": {
   "codemirror_mode": {
    "name": "ipython",
    "version": 3
   },
   "file_extension": ".py",
   "mimetype": "text/x-python",
   "name": "python",
   "nbconvert_exporter": "python",
   "pygments_lexer": "ipython3",
   "version": "3.10.7"
  },
  "orig_nbformat": 4,
  "vscode": {
   "interpreter": {
    "hash": "92e90bd6c5a94ac116b32daed143846700409151323ad0aa8c589766ff7ac504"
   }
  }
 },
 "nbformat": 4,
 "nbformat_minor": 2
}
